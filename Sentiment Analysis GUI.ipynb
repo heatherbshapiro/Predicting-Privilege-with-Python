{
 "cells": [
  {
   "cell_type": "code",
   "execution_count": 1,
   "metadata": {
    "collapsed": true
   },
   "outputs": [],
   "source": [
    "from vaderSentiment.vaderSentiment import sentiment as vaderSentiment \n",
    "from Tkinter import *"
   ]
  },
  {
   "cell_type": "code",
   "execution_count": 2,
   "metadata": {
    "collapsed": true
   },
   "outputs": [],
   "source": [
    "class Application(Frame):\n",
    "    def __init__(self,master):\n",
    "        Frame.__init__(self,master)\n",
    "        self.grid()\n",
    "        self.create_widgets()\n",
    "\n",
    "    def create_widgets(self):\n",
    "        self.instruction = Label(self,text =\"Find the Sentiment Score of your sentence!\")\n",
    "        self.instruction.grid(row=0, column=0, columnspan = 2, sticky= W)\n",
    "\n",
    "        self.sentence = Label(self, text = \"Enter a sentence: \")\n",
    "        self.sentence.grid(row=1, column=0, sticky=W)\n",
    "\n",
    "        self.entry = Entry(self)\n",
    "        self.entry.grid(row = 1, column=1,sticky=W)\n",
    "\n",
    "        self.submit_button= Button(self,text=\"submit\", command=self.reveal)\n",
    "        self.submit_button.grid(row=2, column=0, sticky = W)\n",
    "\n",
    "        self.text = Text(self,width=35,height = 5, wrap = WORD)\n",
    "        self.text.grid(row=3, column = 0, columnspan = 2, sticky = W)\n",
    "\n",
    "        self.clear_button = Button(self, text = \"Clear text\", command =self.clear_text)\n",
    "        self.clear_button.grid(row=2, column=1, sticky=W)\n",
    "    def reveal(self):\n",
    "        self.text = Text(self,width=35,height = 5, wrap = WORD)\n",
    "        self.text.grid(row=3, column = 0, columnspan = 2, sticky = W)\n",
    "        sentences = self.entry.get()\n",
    "       \n",
    "        message = vaderSentiment(sentences)\n",
    "       \n",
    "        self.text.insert(0.0,\"This is the sentiment score\\n\" + str(message)+ \"\\n \")\n",
    "            \n",
    "    def clear_text(self):\n",
    "        self.text = Text(self,width=35,height = 5, wrap = WORD)\n",
    "        self.text.grid(row=3, column = 0, columnspan = 2, sticky = W)"
   ]
  },
  {
   "cell_type": "code",
   "execution_count": 3,
   "metadata": {
    "collapsed": true
   },
   "outputs": [],
   "source": [
    "root = Tk()\n",
    "root.title(\"Buttons\")\n",
    "\n",
    "app = Application(root)\n",
    "\n",
    "root.mainloop()"
   ]
  }
 ],
 "metadata": {
  "kernelspec": {
   "display_name": "Python 2",
   "language": "python",
   "name": "python2"
  },
  "language_info": {
   "codemirror_mode": {
    "name": "ipython",
    "version": 2
   },
   "file_extension": ".py",
   "mimetype": "text/x-python",
   "name": "python",
   "nbconvert_exporter": "python",
   "pygments_lexer": "ipython2",
   "version": "2.7.11"
  }
 },
 "nbformat": 4,
 "nbformat_minor": 0
}
